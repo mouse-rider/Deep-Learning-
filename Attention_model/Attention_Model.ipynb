{
  "nbformat": 4,
  "nbformat_minor": 0,
  "metadata": {
    "kernelspec": {
      "display_name": "Python 3",
      "language": "python",
      "name": "python3"
    },
    "language_info": {
      "codemirror_mode": {
        "name": "ipython",
        "version": 3
      },
      "file_extension": ".py",
      "mimetype": "text/x-python",
      "name": "python",
      "nbconvert_exporter": "python",
      "pygments_lexer": "ipython3",
      "version": "3.6.5"
    },
    "colab": {
      "name": "Attention_Model.ipynb",
      "provenance": []
    }
  },
  "cells": [
    {
      "cell_type": "markdown",
      "metadata": {
        "id": "iiI8JV83-mkD",
        "colab_type": "text"
      },
      "source": [
        "# Deep Learning for NLP - Creating a chatbot"
      ]
    },
    {
      "cell_type": "code",
      "metadata": {
        "id": "8GBakA3g-6Tn",
        "colab_type": "code",
        "colab": {}
      },
      "source": [
        "!git clone https://github.com/deepanrajm/deep_learning.git"
      ],
      "execution_count": null,
      "outputs": []
    },
    {
      "cell_type": "code",
      "metadata": {
        "id": "kLb9Zd57-mkE",
        "colab_type": "code",
        "colab": {}
      },
      "source": [
        "#Library Imports\n",
        "import pickle\n",
        "import numpy as np"
      ],
      "execution_count": null,
      "outputs": []
    },
    {
      "cell_type": "code",
      "metadata": {
        "id": "7pyGX0fz-mkJ",
        "colab_type": "code",
        "colab": {}
      },
      "source": [
        "#retrieve training data\n",
        "with open('deep_learning/Attention_model/train_qa.txt', 'rb') as f:\n",
        "    train_data = pickle.load(f)"
      ],
      "execution_count": null,
      "outputs": []
    },
    {
      "cell_type": "code",
      "metadata": {
        "id": "czS5Cw_g-mkN",
        "colab_type": "code",
        "colab": {}
      },
      "source": [
        "#retrieve test data\n",
        "with open('deep_learning/Attention_model/test_qa.txt', 'rb') as f:\n",
        "    test_data = pickle.load(f)"
      ],
      "execution_count": null,
      "outputs": []
    },
    {
      "cell_type": "code",
      "metadata": {
        "id": "EAHRKRju-mkQ",
        "colab_type": "code",
        "colab": {}
      },
      "source": [
        "#Number of training instances\n",
        "len(train_data)"
      ],
      "execution_count": null,
      "outputs": []
    },
    {
      "cell_type": "code",
      "metadata": {
        "id": "4YUwLTr7-mkV",
        "colab_type": "code",
        "colab": {}
      },
      "source": [
        "#Number of test instances\n",
        "len(test_data)"
      ],
      "execution_count": null,
      "outputs": []
    },
    {
      "cell_type": "code",
      "metadata": {
        "id": "e3-0ecS3-mkY",
        "colab_type": "code",
        "colab": {}
      },
      "source": [
        "#Example of one of the instances\n",
        "train_data[10]"
      ],
      "execution_count": null,
      "outputs": []
    },
    {
      "cell_type": "code",
      "metadata": {
        "id": "O1jz62Zr-mkc",
        "colab_type": "code",
        "colab": {}
      },
      "source": [
        "' '.join(train_data[10][0])"
      ],
      "execution_count": null,
      "outputs": []
    },
    {
      "cell_type": "code",
      "metadata": {
        "id": "ogkmR1H3-mkh",
        "colab_type": "code",
        "colab": {}
      },
      "source": [
        "' '.join(train_data[10][1])"
      ],
      "execution_count": null,
      "outputs": []
    },
    {
      "cell_type": "code",
      "metadata": {
        "id": "kJtbReMM-mkl",
        "colab_type": "code",
        "colab": {}
      },
      "source": [
        "train_data[10][2]"
      ],
      "execution_count": null,
      "outputs": []
    },
    {
      "cell_type": "code",
      "metadata": {
        "id": "KvrSoqUh-mkr",
        "colab_type": "code",
        "colab": {}
      },
      "source": [
        "#First we will build a set of all the words in the dataset:\n",
        "vocab = set()\n",
        "for story, question, answer in train_data:\n",
        "    vocab = vocab.union(set(story)) #Set returns unique words in the sentence\n",
        "                                    #Union returns the unique common elements from a two sets\n",
        "    vocab = vocab.union(set(question))"
      ],
      "execution_count": null,
      "outputs": []
    },
    {
      "cell_type": "code",
      "metadata": {
        "id": "QW-sQMhh-mku",
        "colab_type": "code",
        "colab": {}
      },
      "source": [
        "vocab.add('no')\n",
        "vocab.add('yes')"
      ],
      "execution_count": null,
      "outputs": []
    },
    {
      "cell_type": "code",
      "metadata": {
        "scrolled": true,
        "id": "uWd0TxVu-mky",
        "colab_type": "code",
        "colab": {}
      },
      "source": [
        "vocab"
      ],
      "execution_count": null,
      "outputs": []
    },
    {
      "cell_type": "code",
      "metadata": {
        "id": "ZunpStZ2-mk1",
        "colab_type": "code",
        "colab": {}
      },
      "source": [
        "#Calculate len and add 1 for Keras placeholder - Placeholders are used to feed in the data to the network. \n",
        "#They need a data type, and have optional shape arguements.\n",
        "#They will be empty at first, and then the data will get fed into the placeholder\n",
        "vocab_len = len(vocab) + 1"
      ],
      "execution_count": null,
      "outputs": []
    },
    {
      "cell_type": "code",
      "metadata": {
        "id": "xL_8QLne-mk4",
        "colab_type": "code",
        "colab": {}
      },
      "source": [
        "vocab_len"
      ],
      "execution_count": null,
      "outputs": []
    },
    {
      "cell_type": "code",
      "metadata": {
        "id": "eY1luDwP-mk7",
        "colab_type": "code",
        "colab": {}
      },
      "source": [
        "#Now we are going to calculate the longest story and the longest question\n",
        "#We need this for the Keras pad sequences. \n",
        "#Keras training layers expect all of the input to have the same length, so \n",
        "#we need to pad \n",
        "all_data = test_data + train_data"
      ],
      "execution_count": null,
      "outputs": []
    },
    {
      "cell_type": "code",
      "metadata": {
        "id": "CpPdazBu-mk-",
        "colab_type": "code",
        "colab": {}
      },
      "source": [
        "all_story_lens = [len(data[0]) for data in all_data]"
      ],
      "execution_count": null,
      "outputs": []
    },
    {
      "cell_type": "code",
      "metadata": {
        "id": "ko5V9VrX-mlB",
        "colab_type": "code",
        "colab": {}
      },
      "source": [
        "max_story_len = (max(all_story_lens))"
      ],
      "execution_count": null,
      "outputs": []
    },
    {
      "cell_type": "code",
      "metadata": {
        "id": "cnb4D_H_-mlE",
        "colab_type": "code",
        "colab": {}
      },
      "source": [
        "max_question_len = max([len(data[1]) for data in all_data])"
      ],
      "execution_count": null,
      "outputs": []
    },
    {
      "cell_type": "markdown",
      "metadata": {
        "id": "RbaXRPit-mlJ",
        "colab_type": "text"
      },
      "source": [
        "## Vectorizing the data"
      ]
    },
    {
      "cell_type": "code",
      "metadata": {
        "id": "bwHa8NrF-mlK",
        "colab_type": "code",
        "colab": {}
      },
      "source": [
        "from keras.preprocessing.sequence import pad_sequences\n",
        "from keras.preprocessing.text import Tokenizer"
      ],
      "execution_count": null,
      "outputs": []
    },
    {
      "cell_type": "code",
      "metadata": {
        "id": "uLlRRJvx-mlO",
        "colab_type": "code",
        "colab": {}
      },
      "source": [
        "#Create an instance of the tokenizer object:\n",
        "tokenizer = Tokenizer(filters = [])\n",
        "tokenizer.fit_on_texts(vocab)"
      ],
      "execution_count": null,
      "outputs": []
    },
    {
      "cell_type": "code",
      "metadata": {
        "id": "iUkjZcTD-mlR",
        "colab_type": "code",
        "colab": {}
      },
      "source": [
        "#Dictionary that maps every word in our vocab to an index\n",
        "# It has been automatically lowercased\n",
        "#This tokenizer can give different indexes for different words depending on when we run it\n",
        "tokenizer.word_index"
      ],
      "execution_count": null,
      "outputs": []
    },
    {
      "cell_type": "code",
      "metadata": {
        "id": "5bLhbta7-mlV",
        "colab_type": "code",
        "colab": {}
      },
      "source": [
        "#Tokenize the stories, questions and answers:\n",
        "train_story_text = []\n",
        "train_question_text = []\n",
        "train_answers = []"
      ],
      "execution_count": null,
      "outputs": []
    },
    {
      "cell_type": "code",
      "metadata": {
        "id": "edYyE3gt-mlY",
        "colab_type": "code",
        "colab": {}
      },
      "source": [
        "#Separating each of the elements\n",
        "for story,question,answer in train_data:\n",
        "    train_story_text.append(story)\n",
        "    train_question_text.append(question) \n",
        "    train_answers.append(answer)\n",
        "    "
      ],
      "execution_count": null,
      "outputs": []
    },
    {
      "cell_type": "code",
      "metadata": {
        "id": "7bwOlOHi-mlb",
        "colab_type": "code",
        "colab": {}
      },
      "source": [
        "#Coverting the text into the indexes \n",
        "train_story_seq = tokenizer.texts_to_sequences(train_story_text)"
      ],
      "execution_count": null,
      "outputs": []
    },
    {
      "cell_type": "code",
      "metadata": {
        "id": "Q52XUmMu-mlg",
        "colab_type": "code",
        "colab": {}
      },
      "source": [
        "#Create a function for vectorizing the stories, questions and answers:\n",
        "def vectorize_stories(data,word_index = tokenizer.word_index, max_story_len = max_story_len, max_question_len = max_question_len):\n",
        "    #vectorized stories:\n",
        "    X = []\n",
        "    #vectorized questions:\n",
        "    Xq = []\n",
        "    #vectorized answers:\n",
        "    Y = []\n",
        "    \n",
        "    for story, question, answer in data:\n",
        "        #Getting indexes for each word in the story\n",
        "        x = [word_index[word.lower()] for word in story]\n",
        "        #Getting indexes for each word in the story\n",
        "        xq = [word_index[word.lower()] for word in question]\n",
        "        #For the answers\n",
        "        y = np.zeros(len(word_index) + 1) #Index 0 Reserved when padding the sequences\n",
        "        y[word_index[answer]] = 1\n",
        "        \n",
        "        X.append(x)\n",
        "        Xq.append(xq)\n",
        "        Y.append(y)\n",
        "        \n",
        "    #Now we have to pad these sequences:\n",
        "    return(pad_sequences(X,maxlen=max_story_len), pad_sequences(Xq, maxlen=max_question_len), np.array(Y))\n",
        "        "
      ],
      "execution_count": null,
      "outputs": []
    },
    {
      "cell_type": "code",
      "metadata": {
        "id": "HVw3153X-mlj",
        "colab_type": "code",
        "colab": {}
      },
      "source": [
        "inputs_train, questions_train, answers_train = vectorize_stories(train_data)"
      ],
      "execution_count": null,
      "outputs": []
    },
    {
      "cell_type": "code",
      "metadata": {
        "id": "f8n9htpp-mlm",
        "colab_type": "code",
        "colab": {}
      },
      "source": [
        "inputs_test, questions_test, answers_test = vectorize_stories(test_data)"
      ],
      "execution_count": null,
      "outputs": []
    },
    {
      "cell_type": "code",
      "metadata": {
        "id": "go9DwXZS-mlo",
        "colab_type": "code",
        "colab": {}
      },
      "source": [
        "inputs_train[0]"
      ],
      "execution_count": null,
      "outputs": []
    },
    {
      "cell_type": "code",
      "metadata": {
        "id": "ETze1dCW-mlr",
        "colab_type": "code",
        "colab": {}
      },
      "source": [
        "train_story_text[0]"
      ],
      "execution_count": null,
      "outputs": []
    },
    {
      "cell_type": "code",
      "metadata": {
        "id": "p5tMwegg-mlw",
        "colab_type": "code",
        "colab": {}
      },
      "source": [
        "train_story_seq[0]"
      ],
      "execution_count": null,
      "outputs": []
    },
    {
      "cell_type": "markdown",
      "metadata": {
        "id": "5raULSW2-ml0",
        "colab_type": "text"
      },
      "source": [
        "## Building the Network"
      ]
    },
    {
      "cell_type": "code",
      "metadata": {
        "id": "ktQthvZB-ml0",
        "colab_type": "code",
        "colab": {}
      },
      "source": [
        "#Imports\n",
        "from keras.models import Sequential, Model\n",
        "from keras.layers.embeddings import Embedding\n",
        "from keras.layers import Input, Activation, Dense, Permute, Dropout, add, dot, concatenate, LSTM"
      ],
      "execution_count": null,
      "outputs": []
    },
    {
      "cell_type": "code",
      "metadata": {
        "id": "Q4FBT9-K-ml3",
        "colab_type": "code",
        "colab": {}
      },
      "source": [
        "# We need to create the placeholders \n",
        "#The Input function is used to create a keras tensor\n",
        "#PLACEHOLDER shape = (max_story_len,batch_size)\n",
        "#These are our placeholder for the inputs, ready to recieve batches of the stories and the questions\n",
        "input_sequence = Input((max_story_len,)) #As we dont know batch size yet\n",
        "question = Input((max_question_len,))"
      ],
      "execution_count": null,
      "outputs": []
    },
    {
      "cell_type": "code",
      "metadata": {
        "id": "32RXGe7K-ml6",
        "colab_type": "code",
        "colab": {}
      },
      "source": [
        "#Create input encoder M:\n",
        "input_encoder_m = Sequential()\n",
        "input_encoder_m.add(Embedding(input_dim=vocab_len,output_dim = 64)) #From paper\n",
        "input_encoder_m.add(Dropout(0.3))\n",
        "\n",
        "#Outputs: (Samples, story_maxlen,embedding_dim) -- Gives a list of the lenght of the samples where each item has the\n",
        "#lenght of the max story lenght and every word is embedded in the embbeding dimension"
      ],
      "execution_count": null,
      "outputs": []
    },
    {
      "cell_type": "code",
      "metadata": {
        "id": "5evGqGWh-ml8",
        "colab_type": "code",
        "colab": {}
      },
      "source": [
        "#Create input encoder C:\n",
        "input_encoder_c = Sequential()\n",
        "input_encoder_c.add(Embedding(input_dim=vocab_len,output_dim = max_question_len)) #From paper\n",
        "input_encoder_c.add(Dropout(0.3))\n",
        "\n",
        "#Outputs: (samples, story_maxlen, max_question_len)"
      ],
      "execution_count": null,
      "outputs": []
    },
    {
      "cell_type": "code",
      "metadata": {
        "id": "TvpfzXMp-ml_",
        "colab_type": "code",
        "colab": {}
      },
      "source": [
        "#Create question encoder:\n",
        "question_encoder = Sequential()\n",
        "question_encoder.add(Embedding(input_dim=vocab_len,output_dim = 64,input_length=max_question_len)) #From paper\n",
        "question_encoder.add(Dropout(0.3))\n",
        "\n",
        "#Outputs: (samples, question_maxlen, embedding_dim)"
      ],
      "execution_count": null,
      "outputs": []
    },
    {
      "cell_type": "code",
      "metadata": {
        "id": "VHXB9zON-mmC",
        "colab_type": "code",
        "colab": {}
      },
      "source": [
        "#Now lets encode the sequences, passing the placeholders into our encoders:\n",
        "input_encoded_m = input_encoder_m(input_sequence)\n",
        "input_encoded_c = input_encoder_c(input_sequence)\n",
        "question_encoded = question_encoder(question)"
      ],
      "execution_count": null,
      "outputs": []
    },
    {
      "cell_type": "code",
      "metadata": {
        "id": "DmLr089Z-mmF",
        "colab_type": "code",
        "colab": {}
      },
      "source": [
        "#Use dot product to compute similarity between input encoded m and question \n",
        "#Like in the paper:\n",
        "match = dot([input_encoded_m,question_encoded], axes = (2,2))\n",
        "match = Activation('softmax')(match)"
      ],
      "execution_count": null,
      "outputs": []
    },
    {
      "cell_type": "code",
      "metadata": {
        "id": "KjqzPYfk-mmI",
        "colab_type": "code",
        "colab": {}
      },
      "source": [
        "#For the response we want to add this match with the ouput of input_encoded_c\n",
        "response = add([match,input_encoded_c])\n",
        "response = Permute((2,1))(response) #Permute Layer: permutes dimensions of input"
      ],
      "execution_count": null,
      "outputs": []
    },
    {
      "cell_type": "code",
      "metadata": {
        "id": "DKGwRogo-mmK",
        "colab_type": "code",
        "colab": {}
      },
      "source": [
        "#Once we have the response we can concatenate it with the question encoded:\n",
        "answer = concatenate([response, question_encoded])"
      ],
      "execution_count": null,
      "outputs": []
    },
    {
      "cell_type": "code",
      "metadata": {
        "id": "wZapSbJ_-mmT",
        "colab_type": "code",
        "colab": {}
      },
      "source": [
        "# Reduce the answer tensor with a RNN (LSTM)\n",
        "answer = LSTM(32)(answer)"
      ],
      "execution_count": null,
      "outputs": []
    },
    {
      "cell_type": "code",
      "metadata": {
        "id": "aPlwBw_k-mmW",
        "colab_type": "code",
        "colab": {}
      },
      "source": [
        "#Regularization with dropout:\n",
        "answer = Dropout(0.5)(answer)\n",
        "#Output layer:\n",
        "answer = Dense(vocab_len)(answer) #Output shape: (Samples, Vocab_size) #Yes or no and all 0s"
      ],
      "execution_count": null,
      "outputs": []
    },
    {
      "cell_type": "code",
      "metadata": {
        "id": "zuVsoj0_-mmZ",
        "colab_type": "code",
        "colab": {}
      },
      "source": [
        "#Now we need to output a probability distribution for the vocab, using softmax:\n",
        "answer = Activation('softmax')(answer)"
      ],
      "execution_count": null,
      "outputs": []
    },
    {
      "cell_type": "code",
      "metadata": {
        "id": "ggP6Jq2w-mmd",
        "colab_type": "code",
        "colab": {}
      },
      "source": [
        "#Now we build the final model:\n",
        "model = Model([input_sequence,question], answer)"
      ],
      "execution_count": null,
      "outputs": []
    },
    {
      "cell_type": "code",
      "metadata": {
        "id": "drB-YtuG-mmg",
        "colab_type": "code",
        "colab": {}
      },
      "source": [
        "model.compile(optimizer='rmsprop', loss = 'categorical_crossentropy', metrics = ['accuracy'])\n",
        "#Categorical instead of binary cross entropy as because of the way we are training\n",
        "#we could actually see any of the words from the vocab as output\n",
        "#however, we should only see yes or no"
      ],
      "execution_count": null,
      "outputs": []
    },
    {
      "cell_type": "markdown",
      "metadata": {
        "id": "dK2gWLtF-mmm",
        "colab_type": "text"
      },
      "source": [
        "## Training and testing the model"
      ]
    },
    {
      "cell_type": "code",
      "metadata": {
        "id": "C65JPomo-mmm",
        "colab_type": "code",
        "colab": {}
      },
      "source": [
        "history = model.fit([inputs_train,questions_train],answers_train, batch_size = 32, epochs = 10, validation_data = ([inputs_test,questions_test],answers_test))"
      ],
      "execution_count": null,
      "outputs": []
    },
    {
      "cell_type": "code",
      "metadata": {
        "id": "LcPq-RGe-mmp",
        "colab_type": "code",
        "colab": {}
      },
      "source": [
        "filename = 'Z_chatbot_100_epochs.h5'\n",
        "model.save(filename)"
      ],
      "execution_count": null,
      "outputs": []
    },
    {
      "cell_type": "code",
      "metadata": {
        "id": "yrXDBLjD-mmu",
        "colab_type": "code",
        "colab": {}
      },
      "source": [
        "#To load a model that we have already trained and saved:\n",
        "model.load_weights('Z_chatbot_100_epochs.h5')"
      ],
      "execution_count": null,
      "outputs": []
    },
    {
      "cell_type": "code",
      "metadata": {
        "id": "oKq6LVeH-mmy",
        "colab_type": "code",
        "colab": {}
      },
      "source": [
        "#Lets check out the predictions on the test set:\n",
        "#These are just probabilities for every single word on the vocab\n",
        "pred_results = model.predict(([inputs_test,questions_test]))"
      ],
      "execution_count": null,
      "outputs": []
    },
    {
      "cell_type": "code",
      "metadata": {
        "id": "pN2nm6gf-mm2",
        "colab_type": "code",
        "colab": {}
      },
      "source": [
        "#First test data point\n",
        "test_data[0]"
      ],
      "execution_count": null,
      "outputs": []
    },
    {
      "cell_type": "code",
      "metadata": {
        "id": "O4ae6lRR-mm5",
        "colab_type": "code",
        "colab": {}
      },
      "source": [
        "#These are the probabilities for the vocab words using the 1st sentence\n",
        "pred_results[0]"
      ],
      "execution_count": null,
      "outputs": []
    },
    {
      "cell_type": "code",
      "metadata": {
        "id": "o1N0IbjC-mm8",
        "colab_type": "code",
        "colab": {}
      },
      "source": [
        "val_max = np.argmax(pred_results[0])"
      ],
      "execution_count": null,
      "outputs": []
    },
    {
      "cell_type": "code",
      "metadata": {
        "id": "aewQoy7m-mm-",
        "colab_type": "code",
        "colab": {}
      },
      "source": [
        "for key,val in tokenizer.word_index.items():\n",
        "    if val == val_max:\n",
        "        k = key\n",
        "print(k)"
      ],
      "execution_count": null,
      "outputs": []
    },
    {
      "cell_type": "code",
      "metadata": {
        "id": "LBEmehXd-mnC",
        "colab_type": "code",
        "colab": {}
      },
      "source": [
        "#See probability:\n",
        "pred_results[0][val_max]"
      ],
      "execution_count": null,
      "outputs": []
    },
    {
      "cell_type": "code",
      "metadata": {
        "id": "4ULNaig_-mnF",
        "colab_type": "code",
        "colab": {}
      },
      "source": [
        "#Now, we can make our own questions using the vocabulary we have\n",
        "vocab"
      ],
      "execution_count": null,
      "outputs": []
    },
    {
      "cell_type": "code",
      "metadata": {
        "id": "JSBSNW5f-mnH",
        "colab_type": "code",
        "colab": {}
      },
      "source": [
        "my_story = 'Sandra picked up the milk . Mary travelled left . '"
      ],
      "execution_count": null,
      "outputs": []
    },
    {
      "cell_type": "code",
      "metadata": {
        "id": "Ey5OqNHm-mnJ",
        "colab_type": "code",
        "colab": {}
      },
      "source": [
        "my_story.split()"
      ],
      "execution_count": null,
      "outputs": []
    },
    {
      "cell_type": "code",
      "metadata": {
        "id": "ghbFu5Dv-mnL",
        "colab_type": "code",
        "colab": {}
      },
      "source": [
        "my_question = 'Sandra got the milk ?'"
      ],
      "execution_count": null,
      "outputs": []
    },
    {
      "cell_type": "code",
      "metadata": {
        "id": "KYn26Eln-mnO",
        "colab_type": "code",
        "colab": {}
      },
      "source": [
        "my_question.split()"
      ],
      "execution_count": null,
      "outputs": []
    },
    {
      "cell_type": "code",
      "metadata": {
        "id": "udROY2xx-mnR",
        "colab_type": "code",
        "colab": {}
      },
      "source": [
        "#Put the data in the same format as before\n",
        "my_data = [(my_story.split(), my_question.split(),'yes')]"
      ],
      "execution_count": null,
      "outputs": []
    },
    {
      "cell_type": "code",
      "metadata": {
        "id": "zvncfqdT-mnT",
        "colab_type": "code",
        "colab": {}
      },
      "source": [
        "#Vectorize this data\n",
        "my_story, my_ques, my_ans = vectorize_stories(my_data)"
      ],
      "execution_count": null,
      "outputs": []
    },
    {
      "cell_type": "code",
      "metadata": {
        "id": "jA-k1REM-mnV",
        "colab_type": "code",
        "colab": {}
      },
      "source": [
        "#Make the prediction\n",
        "pred_results = model.predict(([my_story,my_ques]))"
      ],
      "execution_count": null,
      "outputs": []
    },
    {
      "cell_type": "code",
      "metadata": {
        "id": "QaVFVfoS-mnY",
        "colab_type": "code",
        "colab": {}
      },
      "source": [
        "val_max = np.argmax(pred_results[0])"
      ],
      "execution_count": null,
      "outputs": []
    },
    {
      "cell_type": "code",
      "metadata": {
        "id": "6-BvXFkC-mna",
        "colab_type": "code",
        "colab": {}
      },
      "source": [
        "#Correct prediction!\n",
        "for key,val in tokenizer.word_index.items():\n",
        "    if val == val_max:\n",
        "        k = key\n",
        "print(k)"
      ],
      "execution_count": null,
      "outputs": []
    },
    {
      "cell_type": "code",
      "metadata": {
        "id": "mXlC99iu-mnc",
        "colab_type": "code",
        "colab": {}
      },
      "source": [
        "#Confidence\n",
        "pred_results[0][val_max]"
      ],
      "execution_count": null,
      "outputs": []
    }
  ]
}