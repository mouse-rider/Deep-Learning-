{
  "nbformat": 4,
  "nbformat_minor": 0,
  "metadata": {
    "colab": {
      "name": "Untitled8.ipynb",
      "provenance": []
    },
    "kernelspec": {
      "name": "python3",
      "display_name": "Python 3"
    },
    "accelerator": "GPU"
  },
  "cells": [
    {
      "cell_type": "markdown",
      "metadata": {
        "id": "HXky4dBftfxH",
        "colab_type": "text"
      },
      "source": [
        "# **CNN for the MNIST Dataset**"
      ]
    },
    {
      "cell_type": "markdown",
      "metadata": {
        "id": "zq2XSbInth2w",
        "colab_type": "text"
      },
      "source": [
        "**Import libraries**"
      ]
    },
    {
      "cell_type": "code",
      "metadata": {
        "id": "fzETeuNFte0z",
        "colab_type": "code",
        "colab": {}
      },
      "source": [
        "import numpy\n",
        "from keras.datasets import mnist\n",
        "from keras.models import Sequential\n",
        "from keras.layers import Dense\n",
        "from keras.layers import Dropout\n",
        "from keras.layers import Flatten\n",
        "from keras.layers.convolutional import Convolution2D\n",
        "from keras.layers.convolutional import MaxPooling2D\n",
        "from keras.utils import np_utils\n",
        "from keras import backend as K\n",
        "K.tensorflow_backend.set_image_dim_ordering('th')"
      ],
      "execution_count": 0,
      "outputs": []
    },
    {
      "cell_type": "code",
      "metadata": {
        "id": "yWf_08NYtrQV",
        "colab_type": "code",
        "colab": {}
      },
      "source": [
        "seed = 7\n",
        "numpy.random.seed(seed)"
      ],
      "execution_count": 0,
      "outputs": []
    },
    {
      "cell_type": "markdown",
      "metadata": {
        "id": "IlOdWpOZtsS2",
        "colab_type": "text"
      },
      "source": [
        "**Load the Dataset**"
      ]
    },
    {
      "cell_type": "code",
      "metadata": {
        "id": "SdSIWaaetuVO",
        "colab_type": "code",
        "colab": {}
      },
      "source": [
        "(X_train, y_train), (X_test, y_test) = mnist.load_data()"
      ],
      "execution_count": 0,
      "outputs": []
    },
    {
      "cell_type": "markdown",
      "metadata": {
        "id": "O_70FVuotwjR",
        "colab_type": "text"
      },
      "source": [
        "**reshape to be [samples][channels][width][height]**"
      ]
    },
    {
      "cell_type": "code",
      "metadata": {
        "id": "6pzDPeBht0fx",
        "colab_type": "code",
        "colab": {}
      },
      "source": [
        "X_train = X_train.reshape(X_train.shape[0], 1, 28, 28).astype('float32')\n",
        "X_test = X_test.reshape(X_test.shape[0], 1, 28, 28).astype('float32')"
      ],
      "execution_count": 0,
      "outputs": []
    },
    {
      "cell_type": "markdown",
      "metadata": {
        "id": "e47gv5YDt31D",
        "colab_type": "text"
      },
      "source": [
        "**normalize inputs from 0-255 to 0-1**"
      ]
    },
    {
      "cell_type": "code",
      "metadata": {
        "id": "75zbSJIft57-",
        "colab_type": "code",
        "colab": {}
      },
      "source": [
        "X_train = X_train / 255\n",
        "X_test = X_test / 255"
      ],
      "execution_count": 0,
      "outputs": []
    },
    {
      "cell_type": "markdown",
      "metadata": {
        "id": "Y7li67Ojt8WN",
        "colab_type": "text"
      },
      "source": [
        "**one hot encode outputs**"
      ]
    },
    {
      "cell_type": "code",
      "metadata": {
        "id": "UfyYL_yNt-Jc",
        "colab_type": "code",
        "colab": {}
      },
      "source": [
        "y_train = np_utils.to_categorical(y_train)\n",
        "y_test = np_utils.to_categorical(y_test)\n",
        "num_classes = y_test.shape[1]"
      ],
      "execution_count": 0,
      "outputs": []
    },
    {
      "cell_type": "markdown",
      "metadata": {
        "id": "m9TtKvH-t__S",
        "colab_type": "text"
      },
      "source": [
        "**define a simple CNN model**"
      ]
    },
    {
      "cell_type": "code",
      "metadata": {
        "id": "xEWaXAhluCB2",
        "colab_type": "code",
        "colab": {}
      },
      "source": [
        "def baseline_model():\n",
        "\t# create model\n",
        "\tmodel = Sequential()\n",
        "\tmodel.add(Convolution2D(32, 5, 5, input_shape=(1, 28, 28), activation='relu'))\n",
        "\tmodel.add(MaxPooling2D(pool_size=(2, 2)))\n",
        "\tmodel.add(Dropout(0.2))\n",
        "\tmodel.add(Flatten())\n",
        "\tmodel.add(Dense(128, activation='relu'))\n",
        "\tmodel.add(Dense(num_classes, activation='softmax'))\n",
        "\t# Compile model\n",
        "\tmodel.compile(loss='categorical_crossentropy', optimizer='adam', metrics=['accuracy'])\n",
        "\treturn model"
      ],
      "execution_count": 0,
      "outputs": []
    },
    {
      "cell_type": "markdown",
      "metadata": {
        "id": "In1MVsRruE-J",
        "colab_type": "text"
      },
      "source": [
        "**Build and Fit the model**"
      ]
    },
    {
      "cell_type": "code",
      "metadata": {
        "id": "nbWmnRycuG4H",
        "colab_type": "code",
        "colab": {}
      },
      "source": [
        "model = baseline_model()\n",
        "model.fit(X_train, y_train, validation_data=(X_test, y_test), nb_epoch=10, batch_size=200, verbose=1)\n"
      ],
      "execution_count": 0,
      "outputs": []
    },
    {
      "cell_type": "markdown",
      "metadata": {
        "id": "idNWzrokuKhy",
        "colab_type": "text"
      },
      "source": [
        "**Final evaluation of the model**"
      ]
    },
    {
      "cell_type": "code",
      "metadata": {
        "id": "BU6Q3vmpuLIW",
        "colab_type": "code",
        "colab": {}
      },
      "source": [
        "scores = model.evaluate(X_test, y_test, verbose=0)\n",
        "print(\"CNN Error: %.2f%%\" % (100-scores[1]*100))"
      ],
      "execution_count": 0,
      "outputs": []
    }
  ]
}