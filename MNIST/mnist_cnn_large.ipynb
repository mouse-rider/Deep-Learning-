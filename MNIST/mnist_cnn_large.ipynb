{
  "nbformat": 4,
  "nbformat_minor": 0,
  "metadata": {
    "colab": {
      "name": "Untitled9.ipynb",
      "provenance": [],
      "collapsed_sections": []
    },
    "kernelspec": {
      "name": "python3",
      "display_name": "Python 3"
    },
    "accelerator": "GPU"
  },
  "cells": [
    {
      "cell_type": "markdown",
      "metadata": {
        "id": "3FN8o6Otvfu4",
        "colab_type": "text"
      },
      "source": [
        "# **Larger CNN for the MNIST Dataset**"
      ]
    },
    {
      "cell_type": "markdown",
      "metadata": {
        "id": "mh2PpJUAvh16",
        "colab_type": "text"
      },
      "source": [
        "**Library Import**"
      ]
    },
    {
      "cell_type": "code",
      "metadata": {
        "id": "h1MiOkVfvjyh",
        "colab_type": "code",
        "colab": {}
      },
      "source": [
        "import numpy\n",
        "from keras.datasets import mnist\n",
        "from keras.models import Sequential\n",
        "from keras.layers import Dense\n",
        "from keras.layers import Dropout\n",
        "from keras.layers import Flatten\n",
        "from keras.layers.convolutional import Convolution2D\n",
        "from keras.layers.convolutional import MaxPooling2D\n",
        "from keras.utils import np_utils\n",
        "from keras import backend as K\n",
        "K.tensorflow_backend.set_image_dim_ordering('th')"
      ],
      "execution_count": 0,
      "outputs": []
    },
    {
      "cell_type": "code",
      "metadata": {
        "id": "1UGpvztPvn9P",
        "colab_type": "code",
        "colab": {}
      },
      "source": [
        "seed = 7\n",
        "numpy.random.seed(seed)"
      ],
      "execution_count": 0,
      "outputs": []
    },
    {
      "cell_type": "markdown",
      "metadata": {
        "id": "nsYxbhLbvqly",
        "colab_type": "text"
      },
      "source": [
        "**Load the Dataset**"
      ]
    },
    {
      "cell_type": "code",
      "metadata": {
        "id": "MqgrgfyPvsXb",
        "colab_type": "code",
        "colab": {}
      },
      "source": [
        "(X_train, y_train), (X_test, y_test) = mnist.load_data()"
      ],
      "execution_count": 0,
      "outputs": []
    },
    {
      "cell_type": "markdown",
      "metadata": {
        "id": "iXPfkD1RvvyE",
        "colab_type": "text"
      },
      "source": [
        "**reshape to be [samples][pixels][width][height]**"
      ]
    },
    {
      "cell_type": "code",
      "metadata": {
        "id": "in6Mw4kCvd_t",
        "colab_type": "code",
        "colab": {}
      },
      "source": [
        "X_train = X_train.reshape(X_train.shape[0], 1, 28, 28).astype('float32')\n",
        "X_test = X_test.reshape(X_test.shape[0], 1, 28, 28).astype('float32')"
      ],
      "execution_count": 0,
      "outputs": []
    },
    {
      "cell_type": "markdown",
      "metadata": {
        "id": "uMpjoOSWv1m6",
        "colab_type": "text"
      },
      "source": [
        "**normalize inputs from 0-255 to 0-1**"
      ]
    },
    {
      "cell_type": "code",
      "metadata": {
        "id": "g8iUwRE1v3eR",
        "colab_type": "code",
        "colab": {}
      },
      "source": [
        "X_train = X_train / 255\n",
        "X_test = X_test / 255"
      ],
      "execution_count": 0,
      "outputs": []
    },
    {
      "cell_type": "markdown",
      "metadata": {
        "id": "PsRUSMmPv5oh",
        "colab_type": "text"
      },
      "source": [
        "**one hot encode outputs**"
      ]
    },
    {
      "cell_type": "code",
      "metadata": {
        "id": "mKsMTiclv-Fu",
        "colab_type": "code",
        "colab": {}
      },
      "source": [
        "y_train = np_utils.to_categorical(y_train)\n",
        "y_test = np_utils.to_categorical(y_test)\n",
        "num_classes = y_test.shape[1]"
      ],
      "execution_count": 0,
      "outputs": []
    },
    {
      "cell_type": "markdown",
      "metadata": {
        "id": "dTJMqqtXv_G3",
        "colab_type": "text"
      },
      "source": [
        "**define the larger model**"
      ]
    },
    {
      "cell_type": "code",
      "metadata": {
        "id": "XIpS0YjGwAjL",
        "colab_type": "code",
        "colab": {}
      },
      "source": [
        "def larger_model():\n",
        "\t# create model\n",
        "\tmodel = Sequential()\n",
        "\tmodel.add(Convolution2D(30, 5, 5, input_shape=(1, 28, 28), activation='relu'))\n",
        "\tmodel.add(MaxPooling2D(pool_size=(2, 2)))\n",
        "\tmodel.add(Convolution2D(15, 3, 3, activation='relu'))\n",
        "\tmodel.add(MaxPooling2D(pool_size=(2, 2)))\n",
        "\tmodel.add(Dropout(0.2))\n",
        "\tmodel.add(Flatten())\n",
        "\tmodel.add(Dense(128, activation='relu'))\n",
        "\tmodel.add(Dense(50, activation='relu'))\n",
        "\tmodel.add(Dense(num_classes, activation='softmax'))\n",
        "\t# Compile model\n",
        "\tmodel.compile(loss='categorical_crossentropy', optimizer='adam', metrics=['accuracy'])\n",
        "\treturn model\n"
      ],
      "execution_count": 0,
      "outputs": []
    },
    {
      "cell_type": "markdown",
      "metadata": {
        "id": "cx_ugiO-wEB5",
        "colab_type": "text"
      },
      "source": [
        "**Build and Fit the Model**"
      ]
    },
    {
      "cell_type": "code",
      "metadata": {
        "id": "0cb7UqhBwGN6",
        "colab_type": "code",
        "colab": {}
      },
      "source": [
        "model = larger_model()\n",
        "model.fit(X_train, y_train, validation_data=(X_test, y_test), nb_epoch=1, batch_size=200, verbose=2)\n"
      ],
      "execution_count": 0,
      "outputs": []
    },
    {
      "cell_type": "markdown",
      "metadata": {
        "id": "A8Qlq69lwMY4",
        "colab_type": "text"
      },
      "source": [
        "**Final evaluation of the model**"
      ]
    },
    {
      "cell_type": "code",
      "metadata": {
        "id": "ceIrMEOywNO2",
        "colab_type": "code",
        "colab": {}
      },
      "source": [
        "scores = model.evaluate(X_test, y_test, verbose=0)\n",
        "print(\"Large CNN Error: %.2f%%\" % (100-scores[1]*100))\n"
      ],
      "execution_count": 0,
      "outputs": []
    }
  ]
}